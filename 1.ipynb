{
 "cells": [
  {
   "cell_type": "code",
   "execution_count": 79,
   "metadata": {},
   "outputs": [
    {
     "name": "stdout",
     "output_type": "stream",
     "text": [
      "55621\n"
     ]
    }
   ],
   "source": [
    "# 1\n",
    "\n",
    "import re\n",
    "\n",
    "# reading the file \n",
    "my_file = open(\"1_input.txt\", \"r\") \n",
    "data = my_file.read() \n",
    "\n",
    "result = re.sub('[a-zA-Z]', '', data) # Easy removal of all chars\n",
    "\n",
    "data_into_list = result.split(\"\\n\") \n",
    "\n",
    "#print(data_into_list) \n",
    "my_file.close()\n",
    "\n",
    "sum = 0\n",
    "for x in data_into_list:\n",
    "    sum = sum + int(x[0] + x[-1])\n",
    "\n",
    "print(sum)"
   ]
  },
  {
   "cell_type": "code",
   "execution_count": 78,
   "metadata": {},
   "outputs": [
    {
     "name": "stdout",
     "output_type": "stream",
     "text": [
      "53592\n"
     ]
    }
   ],
   "source": [
    "# 2\n",
    "import re\n",
    "\n",
    "# reading the file \n",
    "my_file = open(\"1_input.txt\", \"r\") \n",
    "data = my_file.read() \n",
    "\n",
    "data = data.replace(\"one\", \"one1one\") # Hello my dear eightwoneight\n",
    "data = data.replace(\"two\", \"two2two\")\n",
    "data = data.replace(\"three\", \"three3three\")\n",
    "data = data.replace(\"four\", \"four4four\")\n",
    "data = data.replace(\"five\", \"five5five\")\n",
    "data = data.replace(\"six\", \"six6six\")\n",
    "data = data.replace(\"seven\", \"seven7seven\")\n",
    "data = data.replace(\"eight\", \"eight8eight\")\n",
    "data = data.replace(\"nine\", \"nine9nine\")\n",
    "\n",
    "result = re.sub('[a-zA-Z]', '', data)\n",
    "# Split\n",
    "data_into_list = result.split(\"\\n\") \n",
    "  \n",
    "#print(data_into_list) \n",
    "my_file.close()\n",
    "sum = 0\n",
    "\n",
    "for x in data_into_list:\n",
    "    sum = sum + int(x[0] + x[-1])\n",
    "\n",
    "print(sum)"
   ]
  }
 ],
 "metadata": {
  "kernelspec": {
   "display_name": "Python 3",
   "language": "python",
   "name": "python3"
  },
  "language_info": {
   "codemirror_mode": {
    "name": "ipython",
    "version": 3
   },
   "file_extension": ".py",
   "mimetype": "text/x-python",
   "name": "python",
   "nbconvert_exporter": "python",
   "pygments_lexer": "ipython3",
   "version": "3.11.1"
  }
 },
 "nbformat": 4,
 "nbformat_minor": 2
}
